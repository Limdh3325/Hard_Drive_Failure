{
 "cells": [
  {
   "cell_type": "markdown",
   "metadata": {},
   "source": [
    "# Hard Drive Failure Prediction in the Data Center\n",
    "\n",
    "## Stage 0: Data Acquisition"
   ]
  },
  {
   "cell_type": "code",
   "execution_count": 1,
   "metadata": {},
   "outputs": [],
   "source": [
    "import requests\n",
    "import os\n"
   ]
  },
  {
   "cell_type": "code",
   "execution_count": 2,
   "metadata": {},
   "outputs": [],
   "source": [
    "urls = {'1Q16':'https://f001.backblazeb2.com/file/Backblaze-Hard-Drive-Data/data_Q1_2016.zip',\n",
    "        '2Q16':'https://f001.backblazeb2.com/file/Backblaze-Hard-Drive-Data/data_Q2_2016.zip',\n",
    "        '3Q16':'https://f001.backblazeb2.com/file/Backblaze-Hard-Drive-Data/data_Q3_2016.zip',\n",
    "        '4Q16':'https://f001.backblazeb2.com/file/Backblaze-Hard-Drive-Data/data_Q4_2016.zip',  \n",
    "        '1Q17':'https://f001.backblazeb2.com/file/Backblaze-Hard-Drive-Data/data_Q1_2017.zip',\n",
    "        '2Q17':'https://f001.backblazeb2.com/file/Backblaze-Hard-Drive-Data/data_Q2_2017.zip',\n",
    "        '3Q17':'https://f001.backblazeb2.com/file/Backblaze-Hard-Drive-Data/data_Q3_2017.zip',\n",
    "        '4Q17':'https://f001.backblazeb2.com/file/Backblaze-Hard-Drive-Data/data_Q4_2017.zip',\n",
    "        '1Q18':'https://f001.backblazeb2.com/file/Backblaze-Hard-Drive-Data/data_Q1_2018.zip',\n",
    "        '2Q18':'https://f001.backblazeb2.com/file/Backblaze-Hard-Drive-Data/data_Q2_2018.zip',\n",
    "        '3Q18':'https://f001.backblazeb2.com/file/Backblaze-Hard-Drive-Data/data_Q3_2018.zip',\n",
    "        '4Q18':'https://f001.backblazeb2.com/file/Backblaze-Hard-Drive-Data/data_Q4_2018.zip',\n",
    "        '1Q19':'https://f001.backblazeb2.com/file/Backblaze-Hard-Drive-Data/data_Q1_2019.zip'}\n"
   ]
  },
  {
   "cell_type": "code",
   "execution_count": 3,
   "metadata": {},
   "outputs": [
    {
     "name": "stdout",
     "output_type": "stream",
     "text": [
      "Requesting response from: https://f001.backblazeb2.com/file/Backblaze-Hard-Drive-Data/data_Q1_2016.zip\n",
      "Writing response to: /data/1Q16/1Q16.zip\n",
      "Unzipping data...\n",
      "1Q16 complete.\n",
      "------------------------------------------------------------------------------- \n",
      "\n",
      "Requesting response from: https://f001.backblazeb2.com/file/Backblaze-Hard-Drive-Data/data_Q2_2016.zip\n",
      "Writing response to: /data/2Q16/2Q16.zip\n",
      "Unzipping data...\n",
      "2Q16 complete.\n",
      "------------------------------------------------------------------------------- \n",
      "\n",
      "Requesting response from: https://f001.backblazeb2.com/file/Backblaze-Hard-Drive-Data/data_Q3_2016.zip\n",
      "Writing response to: /data/3Q16/3Q16.zip\n",
      "Unzipping data...\n",
      "3Q16 complete.\n",
      "------------------------------------------------------------------------------- \n",
      "\n",
      "Requesting response from: https://f001.backblazeb2.com/file/Backblaze-Hard-Drive-Data/data_Q4_2016.zip\n",
      "Writing response to: /data/4Q16/4Q16.zip\n",
      "Unzipping data...\n",
      "4Q16 complete.\n",
      "------------------------------------------------------------------------------- \n",
      "\n",
      "Requesting response from: https://f001.backblazeb2.com/file/Backblaze-Hard-Drive-Data/data_Q1_2017.zip\n",
      "Writing response to: /data/1Q17/1Q17.zip\n",
      "Unzipping data...\n",
      "1Q17 complete.\n",
      "------------------------------------------------------------------------------- \n",
      "\n",
      "Requesting response from: https://f001.backblazeb2.com/file/Backblaze-Hard-Drive-Data/data_Q2_2017.zip\n",
      "Writing response to: /data/2Q17/2Q17.zip\n",
      "Unzipping data...\n",
      "2Q17 complete.\n",
      "------------------------------------------------------------------------------- \n",
      "\n",
      "Requesting response from: https://f001.backblazeb2.com/file/Backblaze-Hard-Drive-Data/data_Q3_2017.zip\n",
      "Writing response to: /data/3Q17/3Q17.zip\n",
      "Unzipping data...\n",
      "3Q17 complete.\n",
      "------------------------------------------------------------------------------- \n",
      "\n",
      "Requesting response from: https://f001.backblazeb2.com/file/Backblaze-Hard-Drive-Data/data_Q4_2017.zip\n",
      "Writing response to: /data/4Q17/4Q17.zip\n",
      "Unzipping data...\n",
      "4Q17 complete.\n",
      "------------------------------------------------------------------------------- \n",
      "\n",
      "Requesting response from: https://f001.backblazeb2.com/file/Backblaze-Hard-Drive-Data/data_Q1_2018.zip\n",
      "Writing response to: /data/1Q18/1Q18.zip\n",
      "Unzipping data...\n",
      "1Q18 complete.\n",
      "------------------------------------------------------------------------------- \n",
      "\n",
      "Requesting response from: https://f001.backblazeb2.com/file/Backblaze-Hard-Drive-Data/data_Q2_2018.zip\n",
      "Writing response to: /data/2Q18/2Q18.zip\n",
      "Unzipping data...\n",
      "2Q18 complete.\n",
      "------------------------------------------------------------------------------- \n",
      "\n",
      "Requesting response from: https://f001.backblazeb2.com/file/Backblaze-Hard-Drive-Data/data_Q3_2018.zip\n",
      "Writing response to: /data/3Q18/3Q18.zip\n",
      "Unzipping data...\n",
      "3Q18 complete.\n",
      "------------------------------------------------------------------------------- \n",
      "\n",
      "Requesting response from: https://f001.backblazeb2.com/file/Backblaze-Hard-Drive-Data/data_Q4_2018.zip\n",
      "Writing response to: /data/4Q18/4Q18.zip\n",
      "Unzipping data...\n",
      "4Q18 complete.\n",
      "------------------------------------------------------------------------------- \n",
      "\n",
      "Requesting response from: https://f001.backblazeb2.com/file/Backblaze-Hard-Drive-Data/data_Q1_2019.zip\n",
      "Writing response to: /data/1Q19/1Q19.zip\n",
      "Unzipping data...\n",
      "1Q19 complete.\n",
      "------------------------------------------------------------------------------- \n",
      "\n"
     ]
    }
   ],
   "source": [
    "if not os.path.isdir('data'):\n",
    "    os.system('mkdir data')\n",
    "    \n",
    "for file in urls.keys():\n",
    "    if not os.path.exists('data/' + file):\n",
    "        os.system('mkdir ./data/' + file)\n",
    "    \n",
    "    print('Requesting response from: ' + urls[file])\n",
    "    req = requests.get(urls[file])\n",
    "    print('Writing response to: /data/' + file + '/' + file + '.zip')\n",
    "    with open('data/' + file + '/' + file + '.zip', 'wb') as f:\n",
    "        f.write(req.content)\n",
    "\n",
    "    os.system('unzip ' + 'data/' + file + '/' + file + '.zip -d data/' + file + '/')\n",
    "    print('Unzipping data...')\n",
    "    \n",
    "    os.system('rm ' + 'data/' + file + '/' + file + '.zip')\n",
    "    print(file + ' complete.')\n",
    "    print('------------------------------------------------------------------------------- \\n')\n",
    "        "
   ]
  },
  {
   "cell_type": "code",
   "execution_count": null,
   "metadata": {},
   "outputs": [],
   "source": []
  }
 ],
 "metadata": {
  "kernelspec": {
   "display_name": "Python 3",
   "language": "python",
   "name": "python3"
  },
  "language_info": {
   "codemirror_mode": {
    "name": "ipython",
    "version": 3
   },
   "file_extension": ".py",
   "mimetype": "text/x-python",
   "name": "python",
   "nbconvert_exporter": "python",
   "pygments_lexer": "ipython3",
   "version": "3.6.8"
  }
 },
 "nbformat": 4,
 "nbformat_minor": 2
}
